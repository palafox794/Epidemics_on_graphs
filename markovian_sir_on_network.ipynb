{
 "cells": [
  {
   "cell_type": "code",
   "execution_count": 1,
   "metadata": {},
   "outputs": [],
   "source": [
    "import networkx as nx\n",
    "import pandas as pd\n",
    "import numpy as np\n",
    "import random"
   ]
  },
  {
   "cell_type": "code",
   "execution_count": 2,
   "metadata": {},
   "outputs": [
    {
     "name": "stdout",
     "output_type": "stream",
     "text": [
      "3.7.6\n"
     ]
    }
   ],
   "source": [
    "from platform import python_version\n",
    "\n",
    "print(python_version())"
   ]
  },
  {
   "cell_type": "code",
   "execution_count": 3,
   "metadata": {},
   "outputs": [],
   "source": [
    "#Data from https://snap.stanford.edu/data/ego-Facebook.html\n",
    "H = nx.read_edgelist(\"facebook_combined.txt\", nodetype=int)"
   ]
  },
  {
   "cell_type": "code",
   "execution_count": 4,
   "metadata": {},
   "outputs": [],
   "source": [
    "list_of_events = []"
   ]
  },
  {
   "cell_type": "code",
   "execution_count": 5,
   "metadata": {},
   "outputs": [],
   "source": [
    "times, S, I, R = [0], [len(H.nodes)], [0], [0]"
   ]
  },
  {
   "cell_type": "code",
   "execution_count": 6,
   "metadata": {},
   "outputs": [],
   "source": [
    "Tmax = 10"
   ]
  },
  {
   "cell_type": "code",
   "execution_count": 7,
   "metadata": {},
   "outputs": [],
   "source": [
    "#Transmission rate: beta\n",
    "#Recovery rate: gamma\n",
    "\n",
    "beta, gamma = 1.5, 1"
   ]
  },
  {
   "cell_type": "code",
   "execution_count": 8,
   "metadata": {},
   "outputs": [],
   "source": [
    "for u in H.nodes:\n",
    "    H.nodes[u]['status'] = 'susceptible'\n",
    "    H.nodes[u]['pred_inf_time'] = np.inf"
   ]
  },
  {
   "cell_type": "code",
   "execution_count": 9,
   "metadata": {},
   "outputs": [],
   "source": [
    "#initial infected\n",
    "u = np.random.choice(H.nodes, size=1)[0]\n",
    "\n",
    "H.nodes[u]['pred_inf_time'] = 0\n",
    "\n",
    "#events are (time, node, type)\n",
    "event = (0, u, 'transmit')\n",
    "\n",
    "list_of_events.append(event)\n",
    "list_of_events.sort()"
   ]
  },
  {
   "cell_type": "code",
   "execution_count": 10,
   "metadata": {},
   "outputs": [],
   "source": [
    "def process_recovery(event):\n",
    "    global H, times, S, I, R\n",
    "    #events are (0: time, 1: node, 2: type)\n",
    "\n",
    "    H.nodes[event[1]]['status'] = 'recovered'\n",
    "    times.append(event[0])\n",
    "    S.append(S[-1])\n",
    "    I.append(I[-1]-1)\n",
    "    R.append(R[-1]+1)"
   ]
  },
  {
   "cell_type": "code",
   "execution_count": 11,
   "metadata": {},
   "outputs": [],
   "source": [
    "def process_transmission(event):\n",
    "    global H, times, S, I, R, list_of_events, beta, gamma, Tmax\n",
    "    \n",
    "    #events are (0: time, 1: node, 2: type)\n",
    "    if H.nodes[event[1]]['status'] == 'susceptible':\n",
    "\n",
    "        H.nodes[event[1]]['status'] = 'infected'\n",
    "\n",
    "        times.append(event[0])\n",
    "        S.append(S[-1]-1)\n",
    "        I.append(I[-1]+1)\n",
    "        R.append(R[-1])\n",
    "\n",
    "        rec_time = event[0] + random.expovariate(gamma)\n",
    "\n",
    "        if rec_time < Tmax:\n",
    "            new_event = (rec_time, event[1], 'recovery')\n",
    "            list_of_events.append(new_event)\n",
    "            list_of_events.sort()\n",
    "\n",
    "        for target in H.neighbors(event[1]):\n",
    "            if H.nodes[target]['status'] == 'susceptible':\n",
    "                inf_time = event[0] + random.expovariate(beta)\n",
    "\n",
    "                if inf_time < min(rec_time, H.nodes[target]['pred_inf_time'], Tmax):\n",
    "                    new_event = (inf_time, target, 'transmit')\n",
    "                    list_of_events.append(new_event)\n",
    "                    list_of_events.sort()\n",
    "                    H.nodes[target]['pred_inf_time'] = inf_time            "
   ]
  },
  {
   "cell_type": "code",
   "execution_count": 12,
   "metadata": {},
   "outputs": [],
   "source": [
    "while(len(list_of_events) > 0):\n",
    "    event = list_of_events.pop(0)\n",
    "    \n",
    "    if event[2] == 'transmit':\n",
    "        process_transmission(event)\n",
    "    else:\n",
    "        process_recovery(event)"
   ]
  },
  {
   "cell_type": "code",
   "execution_count": 13,
   "metadata": {},
   "outputs": [],
   "source": [
    "network_data = np.column_stack((times, S, I, R))"
   ]
  },
  {
   "cell_type": "code",
   "execution_count": 14,
   "metadata": {},
   "outputs": [],
   "source": [
    "pd.DataFrame(network_data).to_csv(\"network_data.csv\")"
   ]
  }
 ],
 "metadata": {
  "kernelspec": {
   "display_name": "Python 3",
   "language": "python",
   "name": "python3"
  },
  "language_info": {
   "codemirror_mode": {
    "name": "ipython",
    "version": 3
   },
   "file_extension": ".py",
   "mimetype": "text/x-python",
   "name": "python",
   "nbconvert_exporter": "python",
   "pygments_lexer": "ipython3",
   "version": "3.7.6"
  }
 },
 "nbformat": 4,
 "nbformat_minor": 4
}
